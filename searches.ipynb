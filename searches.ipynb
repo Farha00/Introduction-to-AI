{
  "nbformat": 4,
  "nbformat_minor": 0,
  "metadata": {
    "colab": {
      "provenance": []
    },
    "kernelspec": {
      "name": "python3",
      "display_name": "Python 3"
    },
    "language_info": {
      "name": "python"
    }
  },
  "cells": [
    {
      "cell_type": "code",
      "execution_count": null,
      "metadata": {
        "id": "7s_qjmlk3Iu4"
      },
      "outputs": [],
      "source": [
        "WHITE = 0\n",
        "GRAY = 1\n",
        "BLACK = 2\n",
        "\n",
        "class Graph:\n",
        "    \n",
        "    def __init__(self,M):\n",
        "        self.Mat = M\n",
        "        self.N = M.shape[0]\n",
        "        self.parent = [None for _ in range(self.N)]\n",
        "        self.color = [None for _ in range(self.N)]\n",
        "          \n",
        "    def getParent(self,index):\n",
        "        return self.parent[index]\n",
        "        \n",
        "    def getColor(self,index):\n",
        "        return self.color[index]\n",
        "    \n",
        "    def setParent(self,index,P):\n",
        "        self.parent[index] = P\n",
        "        \n",
        "    def setColor(self,index,color):\n",
        "        self.color[index] = color\n",
        "        \n",
        "    def getAdj(self, index):\n",
        "        adj=[]\n",
        "        for i,v in enumerate(self.Mat[index,:]):\n",
        "            if v!=0:\n",
        "                adj.append(i)\n",
        "        return adj\n"
      ]
    },
    {
      "cell_type": "markdown",
      "source": [
        "**BREADTH FIRST SEARCH(BFS)**"
      ],
      "metadata": {
        "id": "Bqa1iqThTaJA"
      }
    },
    {
      "cell_type": "code",
      "source": [
        "class BFS:\n",
        "    \n",
        "    def __init__(self,G,source):\n",
        "        \n",
        "        self.G = G\n",
        "        self.source = source\n",
        "        self.Q = []\n",
        "        self.result = []\n",
        "        \n",
        "    def traverse(self):\n",
        "    \n",
        "        for i in range(self.G.N):\n",
        "            self.G.setColor(i,WHITE)\n",
        "            self.G.setParent(i,None)\n",
        "            \n",
        "        self.G.setColor(self.source,GRAY)\n",
        "        self.Q.append(self.source)\n",
        "        while self.Q :\n",
        "            u = self.Q.pop(0)\n",
        "            for v in self.G.getAdj(u):\n",
        "                if self.G.getColor(v) == WHITE:\n",
        "                    self.G.setColor(v,GRAY)\n",
        "                    self.G.setParent(v,u)\n",
        "                    self.Q.append(v)\n",
        "            self.G.setColor(u,BLACK)\n",
        "            self.result.append(u)\n",
        "            \n",
        "    def printResult(self):\n",
        "        for u in self.result:\n",
        "            print(u,end=' ')\n",
        "        print('')\n",
        "            \n",
        "    def printLevel(self,curr,depth):\n",
        "        if curr == None:\n",
        "            return;\n",
        "        for i in range(1,depth):\n",
        "            print(\"│   \",end='')\n",
        "        if depth > 0:\n",
        "            print(\"|___\",end='')\n",
        "        print(curr);\n",
        "\n",
        "        for child in [i for i,x in enumerate(self.G.parent) if x== curr]:\n",
        "            self.printLevel(child, depth + 1);\n",
        "\n",
        "import numpy as np\n",
        "\n",
        "M = np.array([[0,1,1,0,0,1,0,1],\n",
        "              [1,1,0,1,0,0,0,1],\n",
        "              [1,0,0,1,1,0,1,0],\n",
        "              [0,1,1,0,1,1,1,1],\n",
        "              [0,0,0,1,1,0,1,1],\n",
        "              [1,0,0,0,1,1,1,0],\n",
        "              [1,0,0,0,1,1,0,1],\n",
        "              [0,0,1,1,0,0,1,0]])\n",
        "\n",
        "G = Graph(M)\n",
        "bfs = BFS(G,1)\n",
        "bfs.traverse()\n",
        "bfs.printResult()\n",
        "bfs.printLevel(1,0)\n"
      ],
      "metadata": {
        "id": "dKJUPOJu3K7w",
        "colab": {
          "base_uri": "https://localhost:8080/"
        },
        "outputId": "949c7dda-a61b-4b02-ae1a-547ad48280e7"
      },
      "execution_count": null,
      "outputs": [
        {
          "output_type": "stream",
          "name": "stdout",
          "text": [
            "1 0 3 7 2 5 4 6 \n",
            "1\n",
            "|___0\n",
            "│   |___2\n",
            "│   |___5\n",
            "|___3\n",
            "│   |___4\n",
            "│   |___6\n",
            "|___7\n"
          ]
        }
      ]
    },
    {
      "cell_type": "markdown",
      "source": [
        "**DEPTH FIRST SEARCH(DFS)**"
      ],
      "metadata": {
        "id": "fN03JAQ0TmJK"
      }
    },
    {
      "cell_type": "code",
      "source": [
        "class DFS:\n",
        "\n",
        "  def __init__(self,G,source):\n",
        "\n",
        "    self.G = G\n",
        "    self.source = source\n",
        "    self.Q = []\n",
        "    self.result = []\n",
        "\n",
        "\n",
        "  def traverse(self):\n",
        "    for i in range(self.G.N):\n",
        "      self.G.setColor(i,WHITE)\n",
        "      self.G.setParent(i,None)\n",
        "    \n",
        "    \n",
        "    self.Q.append(self.source)\n",
        "    \n",
        "    while self.Q :\n",
        "      u = self.Q.pop(0)\n",
        "      if self.G.getColor(u) == WHITE:\n",
        "        self.G.setColor(u,GRAY)\n",
        "        self.visit(self.G,u)\n",
        "        \n",
        "\n",
        "  def visit(self,G,u):\n",
        "    for v in self.G.getAdj(u):\n",
        "      if self.G.getColor(v) == WHITE: \n",
        "        self.G.setColor(v,GRAY)\n",
        "        self.G.setParent(v,u)\n",
        "        self.visit(G,v)\n",
        "    self.G.setColor(u,BLACK) \n",
        "    self.result.append(u)\n",
        "  \n",
        "  def printResult(self):\n",
        "    for u in self.result:\n",
        "      print(u,end=' ')\n",
        "    print('')\n",
        "\n",
        "    \n",
        "  def printLevel(self,curr,depth):\n",
        "        if curr == None:\n",
        "            return;\n",
        "        for i in range(1,depth):\n",
        "            print(\"│   \",end='')\n",
        "        if depth > 0:\n",
        "            print(\"|___\",end='')\n",
        "        print(curr);\n",
        " \n",
        "        for child in [i for i,x in enumerate(self.G.parent) if x== curr]:\n",
        "            self.printLevel(child, depth + 1);\n",
        "import numpy as np\n",
        "\n",
        "M = np.array([[0,1,1,0,0],\n",
        "              [1,1,0,1,0],\n",
        "              [1,0,0,1,1],\n",
        "              [0,1,1,0,1],\n",
        "              [0,0,1,1,0]])\n",
        "\n",
        "G = Graph(M)\n",
        "dfs = DFS(G,1)\n",
        "dfs.traverse()\n",
        "dfs.printResult()\n",
        "dfs.printLevel(0,1)"
      ],
      "metadata": {
        "colab": {
          "base_uri": "https://localhost:8080/"
        },
        "id": "qLfpT7RdWMG6",
        "outputId": "a648930a-15c3-43f1-cba0-e91d1ed22725"
      },
      "execution_count": 45,
      "outputs": [
        {
          "output_type": "stream",
          "name": "stdout",
          "text": [
            "4 3 2 0 1 \n",
            "|___0\n",
            "│   |___2\n",
            "│   │   |___3\n",
            "│   │   │   |___4\n"
          ]
        }
      ]
    },
    {
      "cell_type": "markdown",
      "source": [
        "**DEPTH LIMITED SEARCH**"
      ],
      "metadata": {
        "id": "zLg2TqGVT56G"
      }
    },
    {
      "cell_type": "code",
      "source": [
        "WHITE=1\n",
        "GREY=0\n",
        "BLACK=-1\n",
        "\n",
        "class Graph2:\n",
        "\n",
        "  def __init__(self,M):\n",
        "    self.Matrix=M\n",
        "    self.N=M.shape[0]\n",
        "    self.parent= [None for i in range(self.N)]\n",
        "    self.color= [WHITE for i in range(self.N)]\n",
        "\n",
        "  def getParent(self,index):\n",
        "        return self.parent[index]\n",
        "\n",
        "  def getColor(self,index):\n",
        "      return self.color[index]\n",
        "  \n",
        "  def setParent(self,index,P):\n",
        "      self.parent[index] = P\n",
        "      \n",
        "  def setColor(self,index,color):\n",
        "      self.color[index] = color\n",
        "      \n",
        "  def getAdjacent(self,index):\n",
        "      A=[]\n",
        "      for i,v in enumerate(self.Matrix[index,:]):\n",
        "          if v!=0:\n",
        "              A.append(i)\n",
        "      return A\n",
        "\n",
        "class DLS:\n",
        "\n",
        "  def __init__(self,Graph2,MaxD,goal):\n",
        "    self.G=Graph2\n",
        "    self.Path=[]\n",
        "    self.D=MaxD\n",
        "    self.level=1\n",
        "    self.Goal=goal\n",
        "  \n",
        "  def Traversal(self,S):\n",
        "    self.Path.append(S)\n",
        "    self.G.setColor(S,BLACK)\n",
        "    if S==self.Goal:\n",
        "      return self.Path\n",
        "    elif len(self.Path)==self.D:\n",
        "      return False\n",
        "    else:\n",
        "      self.level=self.level+1\n",
        "    for v in self.G.getAdjacent(S):\n",
        "      if self.G.getColor(v) == WHITE:\n",
        "        temp=self.Traversal(v)\n",
        "        if temp==True:\n",
        "          return self.Path\n",
        "        elif temp==self.Path:\n",
        "            return self.Path \n",
        "        else:\n",
        "          self.Path.remove(v)\n",
        "    return False  \n",
        "          \n",
        "import numpy as np\n",
        "M = np.array([[0,1,1,0,0,1,0],\n",
        "              [1,1,0,1,0,0,0],\n",
        "              [1,0,0,1,1,0,0],\n",
        "              [0,1,1,0,1,1,1],\n",
        "              [0,0,0,1,1,1,0],\n",
        "              [1,1,0,0,1,0,1],\n",
        "              [0,0,1,1,0,1,0]])\n",
        "\n",
        "G = Graph2(M)\n",
        "search = DLS(G,4,5)\n",
        "print(search.Traversal(3))"
      ],
      "metadata": {
        "colab": {
          "base_uri": "https://localhost:8080/"
        },
        "id": "paHgRUQf3g1P",
        "outputId": "5f229cdf-6bf6-4352-90ce-20f097d9168f"
      },
      "execution_count": 46,
      "outputs": [
        {
          "output_type": "stream",
          "name": "stdout",
          "text": [
            "[3, 1, 0, 5]\n"
          ]
        }
      ]
    }
  ]
}